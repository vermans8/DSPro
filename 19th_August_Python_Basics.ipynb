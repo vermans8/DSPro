{
 "cells": [
  {
   "cell_type": "code",
   "execution_count": 2,
   "id": "e9488836-c04b-420a-b3f3-92734dd5e2f3",
   "metadata": {},
   "outputs": [
    {
     "data": {
      "text/plain": [
       "'TOPIC: Python Basics Variable'"
      ]
     },
     "execution_count": 2,
     "metadata": {},
     "output_type": "execute_result"
    }
   ],
   "source": [
    "'''TOPIC: Python Basics Variable'''"
   ]
  },
  {
   "cell_type": "code",
   "execution_count": 13,
   "id": "d4856e2f-2b21-4b55-9dfa-fa611f151281",
   "metadata": {},
   "outputs": [
    {
     "name": "stdout",
     "output_type": "stream",
     "text": [
      "Now the value of x - 15\n",
      "Now the value of y - 10\n"
     ]
    }
   ],
   "source": [
    "'''1. Write a Python program that takes a string as input and prints the length of\n",
    "the string.'''\n",
    "\n",
    "x = 10\n",
    "y = 15\n",
    "# swapping the value of variables x into y and y into x.\n",
    "# without using third variable\n",
    "x, y = y, x\n",
    "\n",
    "print(\"Now the value of x -\", x)\n",
    "print(\"Now the value of y -\", y)"
   ]
  },
  {
   "cell_type": "code",
   "execution_count": 15,
   "id": "1a58ceef-e875-4cf4-ada8-eb2226c53d52",
   "metadata": {},
   "outputs": [
    {
     "name": "stdin",
     "output_type": "stream",
     "text": [
      " 12\n",
      " 20\n"
     ]
    },
    {
     "name": "stdout",
     "output_type": "stream",
     "text": [
      "the area of rectangle is 240\n"
     ]
    }
   ],
   "source": [
    "'''2. Create a program that calculates the area of a rectangle. Take the length and\n",
    "width as inputs from the user and store them in variables. Calculate and\n",
    "display the area.'''\n",
    "\n",
    "length = int(input())\n",
    "width = int(input())\n",
    "\n",
    "# calculation of the area of the rectangle \n",
    "area = length * width\n",
    "\n",
    "print (\"the area of rectangle is\", area)"
   ]
  },
  {
   "cell_type": "code",
   "execution_count": 3,
   "id": "5db8edb2-95ea-4b3a-9cfe-27c552103819",
   "metadata": {},
   "outputs": [
    {
     "name": "stdin",
     "output_type": "stream",
     "text": [
      "Please input the temperature in celsius : 45\n"
     ]
    },
    {
     "name": "stdout",
     "output_type": "stream",
     "text": [
      "The temperature 45 Degree Celsius is equal to 113.0 faharenheit.\n"
     ]
    }
   ],
   "source": [
    "'''3. Write a Python program that converts temperatures from Celsius to\n",
    "Fahrenheit. Take the temperature in Celsius as input, store it in a variable,\n",
    "convert it to Fahrenheit, and display the result.'''\n",
    "\n",
    "Celsius = int(input(\"Please input the temperature in celsius :\"))\n",
    "# converting temperature from celsius to Faharenheit.\n",
    "Faharenheit = (Celsius * 9/5 ) + 32\n",
    "\n",
    "print(\"The temperature\", Celsius,\"Degree Celsius is equal to\", Faharenheit, \"faharenheit.\")\n",
    "\n",
    "\n"
   ]
  },
  {
   "cell_type": "code",
   "execution_count": 4,
   "id": "95be58c0-c102-416b-91fe-a2af645d70a5",
   "metadata": {},
   "outputs": [],
   "source": [
    "#TOPIC: String Based Questions\n"
   ]
  },
  {
   "cell_type": "code",
   "execution_count": 21,
   "id": "fa037696-a58c-44f4-a7ca-49169fcfc857",
   "metadata": {},
   "outputs": [
    {
     "name": "stdin",
     "output_type": "stream",
     "text": [
      "Enter your test - I am a worker\n"
     ]
    },
    {
     "name": "stdout",
     "output_type": "stream",
     "text": [
      "13\n"
     ]
    }
   ],
   "source": [
    "''' 1. Write a Python program that takes a string as input and prints the length of\n",
    "the string.'''\n",
    "\n",
    "t1 = input('Enter your test -')\n",
    "print(len(t1))"
   ]
  },
  {
   "cell_type": "code",
   "execution_count": 66,
   "id": "ebdd1ed2-0b59-4e3a-98a3-6f0a9272e3fa",
   "metadata": {},
   "outputs": [
    {
     "name": "stdin",
     "output_type": "stream",
     "text": [
      "enter a text czeckoslowvakia\n"
     ]
    },
    {
     "name": "stdout",
     "output_type": "stream",
     "text": [
      "The number of vowels in test is: 6\n"
     ]
    }
   ],
   "source": [
    "''' 2. Create a program that takes a sentence from the user and counts the number\n",
    "of vowels (a, e, i, o, u) in the string.'''\n",
    "\n",
    "s = input(\"enter a text\")\n",
    "vowel = 0\n",
    "for i in s:\n",
    "    if i == 'a' or i == 'e' or i == 'i' or i == 'o' or i == 'u' or i == 'A' or i == 'E' or i == 'I' or i == 'O' or i == 'U':\n",
    "        vowel = vowel+1\n",
    "print(\"The number of vowels in test is:\",vowel)"
   ]
  },
  {
   "cell_type": "code",
   "execution_count": 10,
   "id": "01aee558-57bb-4ef2-911e-8a518b33fea8",
   "metadata": {},
   "outputs": [
    {
     "name": "stdin",
     "output_type": "stream",
     "text": [
      "input your text here I am studying data science from PWskills.\n"
     ]
    },
    {
     "name": "stdout",
     "output_type": "stream",
     "text": [
      ".slliksWP morf ecneics atad gniyduts ma I\n",
      ".slliksW\n"
     ]
    }
   ],
   "source": [
    "''' 3. Given a string, reverse the order of characters using string slicing and print\n",
    "the reversed string.'''\n",
    "\n",
    "\n",
    "def my_function(x):\n",
    "  return x[::-1]\n",
    "\n",
    "# getting input from a user.\n",
    "mytxt = my_function(input(\"input your text here\"))\n",
    "\n",
    "#Reversing the test.\n",
    "print(mytxt)\n",
    "#Slicing the reveresed text. \n",
    "print(mytxt[:8])"
   ]
  },
  {
   "cell_type": "code",
   "execution_count": 3,
   "id": "03244641-c0d3-4817-a36e-01e51f1b451b",
   "metadata": {},
   "outputs": [
    {
     "name": "stdin",
     "output_type": "stream",
     "text": [
      "give your text malayalam\n"
     ]
    },
    {
     "name": "stdout",
     "output_type": "stream",
     "text": [
      "Yes, it is a palindrome\n"
     ]
    }
   ],
   "source": [
    "''' 4. Write a program that takes a string as input and checks if it is a palindrome\n",
    "    (reads the same forwards and backwards).'''\n",
    "\n",
    "word = input(\"give your text\")\n",
    "\n",
    "check = \"\"\n",
    "for i in word:\n",
    "    check = i + check\n",
    " \n",
    "if (word == check):\n",
    "    print(\"Yes, it is a palindrome\")\n",
    "else:\n",
    "    print(\"No, it is not a palindrome\")"
   ]
  },
  {
   "cell_type": "code",
   "execution_count": 5,
   "id": "2a9ae398-68e7-4728-befc-72b160cb5c93",
   "metadata": {},
   "outputs": [
    {
     "name": "stdin",
     "output_type": "stream",
     "text": [
      "write your text here     sljsdfsf       \n"
     ]
    },
    {
     "name": "stdout",
     "output_type": "stream",
     "text": [
      "sljsdfsf\n"
     ]
    }
   ],
   "source": [
    "''' 5. Create a program that takes a string as input and removes all the spaces from\n",
    "it. Print the modified string without spaces.'''\n",
    "\n",
    "#Getting string as input.\n",
    "word1 = input(\"write your text here\")\n",
    "word2 = word1.replace(\" \",\"\")\n",
    "print(\"given text without spaceword2)\n"
   ]
  },
  {
   "cell_type": "code",
   "execution_count": null,
   "id": "44ed1fe3-0b81-400b-bc1c-522f3209f27d",
   "metadata": {},
   "outputs": [],
   "source": []
  }
 ],
 "metadata": {
  "kernelspec": {
   "display_name": "Python 3 (ipykernel)",
   "language": "python",
   "name": "python3"
  },
  "language_info": {
   "codemirror_mode": {
    "name": "ipython",
    "version": 3
   },
   "file_extension": ".py",
   "mimetype": "text/x-python",
   "name": "python",
   "nbconvert_exporter": "python",
   "pygments_lexer": "ipython3",
   "version": "3.10.8"
  }
 },
 "nbformat": 4,
 "nbformat_minor": 5
}
